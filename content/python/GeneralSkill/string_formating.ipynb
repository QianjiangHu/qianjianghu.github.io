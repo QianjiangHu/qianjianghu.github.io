{
 "cells": [
  {
   "cell_type": "markdown",
   "id": "c85b84fe",
   "metadata": {},
   "source": [
    "##  string formatting in Python"
   ]
  },
  {
   "cell_type": "markdown",
   "id": "f71c6172",
   "metadata": {},
   "source": [
    "_Qianjiang Hu_  \n",
    "_2022-04-16_"
   ]
  },
  {
   "cell_type": "code",
   "execution_count": 1,
   "id": "8fa614b1",
   "metadata": {},
   "outputs": [],
   "source": [
    "name = 'QJ'\n",
    "age = 16"
   ]
  },
  {
   "cell_type": "markdown",
   "id": "c065f8b0",
   "metadata": {},
   "source": [
    "#### `% Operator`"
   ]
  },
  {
   "cell_type": "markdown",
   "id": "75a45fef",
   "metadata": {},
   "source": [
    "`%d` will truncate to integer, `%s` will maintain formatting, `%f` will print as float and `%g` is used for generic number\n",
    " `%x` format specifier convert an int value to a string and represent it as a hexadecimal number"
   ]
  },
  {
   "cell_type": "code",
   "execution_count": 2,
   "id": "d31aaf4f",
   "metadata": {},
   "outputs": [
    {
     "data": {
      "text/plain": [
       "'Hello, this is QJ; I am 16 years old'"
      ]
     },
     "execution_count": 2,
     "metadata": {},
     "output_type": "execute_result"
    }
   ],
   "source": [
    "'Hello, this is %s; I am %d years old' %(name, age)"
   ]
  },
  {
   "cell_type": "code",
   "execution_count": 3,
   "id": "28f69dfc",
   "metadata": {},
   "outputs": [
    {
     "name": "stdout",
     "output_type": "stream",
     "text": [
      "QJ is printing: QJ (str) 16.6 (str) 16 (integer) 16.600000 (float) 16.6 (generic number)\n"
     ]
    }
   ],
   "source": [
    "name ='QJ'\n",
    "number = 16.6\n",
    "print('QJ is printing: %s (str) %s (str) %d (integer) %f (float) %g (generic number)' % (name, number, number, number, number))"
   ]
  },
  {
   "cell_type": "markdown",
   "id": "78092f3e",
   "metadata": {},
   "source": [
    "It’s also possible to refer to variable substitutions by name if passing a mapping to the `%` operator"
   ]
  },
  {
   "cell_type": "code",
   "execution_count": 4,
   "id": "6cbd7a04",
   "metadata": {},
   "outputs": [
    {
     "data": {
      "text/plain": [
       "'Hey, this is QJ; I am 16 years old!'"
      ]
     },
     "execution_count": 4,
     "metadata": {},
     "output_type": "execute_result"
    }
   ],
   "source": [
    "'Hey, this is %(name)s; I am %(age)d years old!' % {\"name\": name, \"age\": age}"
   ]
  },
  {
   "cell_type": "markdown",
   "id": "a3dc5e54",
   "metadata": {},
   "source": [
    "#### `'{}'.format()`"
   ]
  },
  {
   "cell_type": "code",
   "execution_count": 5,
   "id": "6545959e",
   "metadata": {},
   "outputs": [
    {
     "data": {
      "text/plain": [
       "'Hey, QJ, are you 16 years old？'"
      ]
     },
     "execution_count": 5,
     "metadata": {},
     "output_type": "execute_result"
    }
   ],
   "source": [
    "name = 'QJ'\n",
    "age = 16\n",
    "'Hey, {name}, are you {age} years old？'.format(name=name, age = age)"
   ]
  },
  {
   "cell_type": "markdown",
   "id": "ab1b83cc",
   "metadata": {},
   "source": [
    "####  f-Strings \n",
    "`f'{}'`"
   ]
  },
  {
   "cell_type": "code",
   "execution_count": 6,
   "id": "b1e06d09",
   "metadata": {},
   "outputs": [
    {
     "data": {
      "text/plain": [
       "'Hey, QJ, are you 16 years old？'"
      ]
     },
     "execution_count": 6,
     "metadata": {},
     "output_type": "execute_result"
    }
   ],
   "source": [
    "f'Hey, {name}, are you {age} years old？'"
   ]
  },
  {
   "cell_type": "code",
   "execution_count": 7,
   "id": "17b9138c",
   "metadata": {},
   "outputs": [
    {
     "data": {
      "text/plain": [
       "'Five plus ten is 15 and not 30.'"
      ]
     },
     "execution_count": 7,
     "metadata": {},
     "output_type": "execute_result"
    }
   ],
   "source": [
    "a = 5\n",
    "b = 10\n",
    "\n",
    "f'Five plus ten is {a + b} and not {2 * (a + b)}.'"
   ]
  },
  {
   "cell_type": "code",
   "execution_count": 8,
   "id": "04e7249d",
   "metadata": {},
   "outputs": [
    {
     "data": {
      "text/plain": [
       "'Hello, QJ is 16 years old?'"
      ]
     },
     "execution_count": 8,
     "metadata": {},
     "output_type": "execute_result"
    }
   ],
   "source": [
    "def selfintro(name, age):\n",
    "     return f\"Hello, {name} is {age} years old?\"\n",
    "\n",
    "selfintro('QJ', '16')"
   ]
  },
  {
   "cell_type": "markdown",
   "id": "56cebed3",
   "metadata": {},
   "source": [
    "#### Template Strings (Standard Library)"
   ]
  },
  {
   "cell_type": "code",
   "execution_count": 9,
   "id": "70ebe96d",
   "metadata": {},
   "outputs": [
    {
     "data": {
      "text/plain": [
       "'Hey, QJ!'"
      ]
     },
     "execution_count": 9,
     "metadata": {},
     "output_type": "execute_result"
    }
   ],
   "source": [
    "from string import Template\n",
    "\n",
    "t = Template('Hey, $name!')\n",
    "t.substitute(name=name)"
   ]
  },
  {
   "cell_type": "code",
   "execution_count": 10,
   "id": "7c8a0aac",
   "metadata": {},
   "outputs": [
    {
     "data": {
      "text/plain": [
       "'Hey QJ, I am 16 years old!'"
      ]
     },
     "execution_count": 10,
     "metadata": {},
     "output_type": "execute_result"
    }
   ],
   "source": [
    "sample = 'Hey $name, I am $age years old!'\n",
    "Template(sample).substitute(name=name, age = age)"
   ]
  },
  {
   "cell_type": "code",
   "execution_count": null,
   "id": "8103b1de",
   "metadata": {},
   "outputs": [],
   "source": []
  },
  {
   "cell_type": "code",
   "execution_count": null,
   "id": "1cc0f770",
   "metadata": {},
   "outputs": [],
   "source": []
  }
 ],
 "metadata": {
  "kernelspec": {
   "display_name": "Python 3",
   "language": "python",
   "name": "python3"
  },
  "language_info": {
   "codemirror_mode": {
    "name": "ipython",
    "version": 3
   },
   "file_extension": ".py",
   "mimetype": "text/x-python",
   "name": "python",
   "nbconvert_exporter": "python",
   "pygments_lexer": "ipython3",
   "version": "3.7.10"
  }
 },
 "nbformat": 4,
 "nbformat_minor": 5
}
