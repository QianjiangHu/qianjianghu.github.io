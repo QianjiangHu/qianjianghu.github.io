{
 "cells": [
  {
   "cell_type": "markdown",
   "id": "56254abb",
   "metadata": {},
   "source": [
    "### Check source code of Python Function or Module\n",
    "_**Qianjiang Hu**_  \n",
    "_**2022-01-01**_"
   ]
  },
  {
   "cell_type": "markdown",
   "id": "acd4104b",
   "metadata": {},
   "source": [
    "Python is a popular programming language,being of a large opensource presence with many powerful projects that receives contribution from developers around the world.\n",
    "\n",
    "However, current developed packages/modules can not always meet the requirement for data analysis or project develping. It is quite common that we need to modify and adatp the current functions/modules into our project. On the other hand, checking the source code can garantee a clear understanding of the function we are using."
   ]
  },
  {
   "cell_type": "markdown",
   "id": "5400e566",
   "metadata": {},
   "source": [
    "#### `Via sys.modules files`"
   ]
  },
  {
   "cell_type": "markdown",
   "id": "1367b3de",
   "metadata": {},
   "source": [
    "##### Step 1: The module whcih the function belongs to"
   ]
  },
  {
   "cell_type": "code",
   "execution_count": null,
   "id": "e10e68f8",
   "metadata": {},
   "outputs": [],
   "source": [
    "import scanpy as sc\n",
    "help(sc.pl.heatmap)"
   ]
  },
  {
   "cell_type": "markdown",
   "id": "16686a0a",
   "metadata": {},
   "source": [
    "##### Step 2: The path of the module and function files"
   ]
  },
  {
   "cell_type": "code",
   "execution_count": null,
   "id": "387f746b",
   "metadata": {},
   "outputs": [],
   "source": [
    "import sys\n",
    "sys.modules['scanpy.plotting._anndata']"
   ]
  },
  {
   "cell_type": "markdown",
   "id": "8cb38ff0",
   "metadata": {},
   "source": [
    "##### Step 3: Check the .py file to get the source code"
   ]
  },
  {
   "cell_type": "code",
   "execution_count": null,
   "id": "a4692648",
   "metadata": {},
   "outputs": [],
   "source": [
    "!cat ~miniconda3/lib/python3.7/site-packages/scanpy/plotting/_anndata.py"
   ]
  },
  {
   "cell_type": "markdown",
   "id": "5c4a91c0",
   "metadata": {},
   "source": [
    "#### `Via functionNama??`"
   ]
  },
  {
   "cell_type": "code",
   "execution_count": null,
   "id": "813051b3",
   "metadata": {},
   "outputs": [],
   "source": [
    "sc.pl.heatmap??"
   ]
  },
  {
   "cell_type": "markdown",
   "id": "cc3e3349",
   "metadata": {},
   "source": [
    "#### `Via inspect`\n",
    "\n",
    "import inspect\n",
    "\n",
    "source = inspect.getsource(func)"
   ]
  },
  {
   "cell_type": "code",
   "execution_count": null,
   "id": "1c15112a",
   "metadata": {},
   "outputs": [],
   "source": [
    "import inspect\n",
    "source=inspect.getsource(sc.pl.heatmap)"
   ]
  },
  {
   "cell_type": "markdown",
   "id": "8bd5a873",
   "metadata": {},
   "source": [
    "#### `Via Pycharm`"
   ]
  },
  {
   "cell_type": "code",
   "execution_count": null,
   "id": "cd5d6762",
   "metadata": {},
   "outputs": [],
   "source": [
    "Ctl(command) + mouseclick on the function name will show the source code"
   ]
  }
 ],
 "metadata": {
  "kernelspec": {
   "display_name": "Python 3",
   "language": "python",
   "name": "python3"
  },
  "language_info": {
   "codemirror_mode": {
    "name": "ipython",
    "version": 3
   },
   "file_extension": ".py",
   "mimetype": "text/x-python",
   "name": "python",
   "nbconvert_exporter": "python",
   "pygments_lexer": "ipython3",
   "version": "3.7.10"
  }
 },
 "nbformat": 4,
 "nbformat_minor": 5
}
