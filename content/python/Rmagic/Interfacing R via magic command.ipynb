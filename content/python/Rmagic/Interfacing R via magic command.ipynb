{
 "cells": [
  {
   "cell_type": "markdown",
   "metadata": {},
   "source": [
    "# Interfacing R via magic command"
   ]
  },
  {
   "cell_type": "markdown",
   "metadata": {},
   "source": [
    "#### *Qianjiang Hu   &nbsp;&nbsp;&nbsp;  2021-02-25*"
   ]
  },
  {
   "cell_type": "markdown",
   "metadata": {},
   "source": [
    "There is a lot of interest and debate over what is the best language for data science between R and Python. Sine, both of them present advantages and disadvantages, why don't we use both? Fortunately, Ipython and rpy2 offer an interactive environment via Rmagic."
   ]
  },
  {
   "cell_type": "markdown",
   "metadata": {},
   "source": [
    "### Enable the interactive R magic"
   ]
  },
  {
   "cell_type": "markdown",
   "metadata": {},
   "source": [
    "Enable the R magic by executing `%load_ext rpy2.ipython`, not necessary if you have done this. *(need to install `rpy2` firstly)*"
   ]
  },
  {
   "cell_type": "code",
   "execution_count": 1,
   "metadata": {},
   "outputs": [],
   "source": [
    "%load_ext rpy2.ipython"
   ]
  },
  {
   "cell_type": "markdown",
   "metadata": {},
   "source": [
    "###  Line and Cell magics"
   ]
  },
  {
   "cell_type": "markdown",
   "metadata": {},
   "source": [
    "In general, `%R` is the line magic, executing R magic in the line; while `%%R` is the cell magics, executing R magic in a block."
   ]
  },
  {
   "cell_type": "code",
   "execution_count": 2,
   "metadata": {},
   "outputs": [
    {
     "name": "stdout",
     "output_type": "stream",
     "text": [
      "[1] 0.6216967\n",
      "[1] 0.4304756\n",
      "2.5\n"
     ]
    }
   ],
   "source": [
    "# Multiple R expressions can be executed by joining them with semicolons:\n",
    "\n",
    "%R a  <- rnorm(10); print(sd(a)); print(mean(a)) # R kernel\n",
    "\n",
    "## the following codes are still executed in Python Kernel\n",
    "import numpy as np\n",
    "b = np.array([1,2,3,4])\n",
    "\n",
    "print(np.mean(b))"
   ]
  },
  {
   "cell_type": "code",
   "execution_count": 3,
   "metadata": {
    "scrolled": true
   },
   "outputs": [
    {
     "name": "stdout",
     "output_type": "stream",
     "text": [
      " [1]  1.1299197 -1.1032857  0.3145644 -0.2571288  0.1727749  1.4199051\n",
      " [7] -1.0870211 -0.4109811 -1.0184317  0.4709885\n",
      " [1]  11.299197 -11.032857   3.145644  -2.571288   1.727749  14.199051\n",
      " [7] -10.870211  -4.109811 -10.184317   4.709885\n"
     ]
    }
   ],
   "source": [
    "%%R\n",
    "c <- rnorm(10)\n",
    "d <- c*10\n",
    "print(c)\n",
    "print(d)"
   ]
  },
  {
   "cell_type": "markdown",
   "metadata": {},
   "source": [
    "###### optional arguments:\n",
    " `-i` &nbsp;&nbsp;&nbsp; INPUT  \n",
    " Objects that will be loaded into R kernel from Python Kernel.  \n",
    " Multiple object names can be loaded, separated by commas with no whitespace.\n",
    "\n",
    " `-o` &nbsp;&nbsp;&nbsp; OUTPUT  \n",
    " Names of variables that will be export to Python Kernel from R kernel.  \n",
    " Multiple object names can be exported, separated by commas with no whitespace.\n",
    "\n",
    " `-n` &nbsp;&nbsp;&nbsp; NORETURN  \n",
    " Force the magic to not return anything."
   ]
  },
  {
   "cell_type": "markdown",
   "metadata": {},
   "source": [
    "`-w` &nbsp;&nbsp;&nbsp;WIDTH  \n",
    "Width of plotting device in R.\n",
    "\n",
    "`-h` &nbsp;&nbsp;&nbsp;HEIGHT  \n",
    "Height of plotting device in R.\n",
    "\n",
    "`-p` &nbsp;&nbsp;&nbsp;POINTSIZE  \n",
    "Pointsize of plotting device in R.\n",
    "\n",
    "`-b` &nbsp;&nbsp;&nbsp;BG  \n",
    "Background of plotting device in R."
   ]
  },
  {
   "cell_type": "markdown",
   "metadata": {},
   "source": [
    "##### alternatives for `-i` and `-o`"
   ]
  },
  {
   "cell_type": "markdown",
   "metadata": {},
   "source": [
    "`%Rpush` and `%Rpull` are the alternatives of `-i` and `-o` respectively."
   ]
  },
  {
   "cell_type": "markdown",
   "metadata": {},
   "source": [
    "##### %Rpush"
   ]
  },
  {
   "cell_type": "markdown",
   "metadata": {},
   "source": [
    "`%Rpush` all objects followed will be loaded into R kernel from Python Kernel.  \n",
    "Multiple object names can be loaded, **separated by whitespace**."
   ]
  },
  {
   "cell_type": "markdown",
   "metadata": {},
   "source": [
    "##### %Rpull"
   ]
  },
  {
   "cell_type": "markdown",
   "metadata": {},
   "source": [
    "`%Rpull` all objects followed will be export to Python Kernel from R kernel.  \n",
    "Multiple object names can be exported, **separated by whitespace**"
   ]
  },
  {
   "cell_type": "code",
   "execution_count": 4,
   "metadata": {},
   "outputs": [
    {
     "data": {
      "text/plain": [
       "array([ 9, 11, 13], dtype=int32)"
      ]
     },
     "execution_count": 4,
     "metadata": {},
     "output_type": "execute_result"
    }
   ],
   "source": [
    "## example of using %Rpush\n",
    "y = np.array([3,4,5])\n",
    "z = np.array([6,7,8])\n",
    "%Rpush y z\n",
    "%R y+z"
   ]
  },
  {
   "cell_type": "code",
   "execution_count": 5,
   "metadata": {},
   "outputs": [
    {
     "data": {
      "text/plain": [
       "11.0"
      ]
     },
     "execution_count": 5,
     "metadata": {},
     "output_type": "execute_result"
    }
   ],
   "source": [
    "## example of using %Rpush\n",
    "%R yz <- y+z\n",
    "%Rpull yz\n",
    "np.mean(yz)"
   ]
  },
  {
   "cell_type": "code",
   "execution_count": 6,
   "metadata": {},
   "outputs": [
    {
     "name": "stdout",
     "output_type": "stream",
     "text": [
      " [1]  1.406497443  0.045380741  0.683356013  0.025033272 -0.544757834\n",
      " [6] -0.005542586  0.827372126 -0.004161178  0.173226014  0.305845155\n"
     ]
    }
   ],
   "source": [
    "%%R\n",
    "a <- rnorm(10)\n",
    "a"
   ]
  },
  {
   "cell_type": "markdown",
   "metadata": {},
   "source": [
    "### plots"
   ]
  },
  {
   "cell_type": "code",
   "execution_count": 8,
   "metadata": {},
   "outputs": [
    {
     "data": {
      "text/html": [
       "<div>\n",
       "<style scoped>\n",
       "    .dataframe tbody tr th:only-of-type {\n",
       "        vertical-align: middle;\n",
       "    }\n",
       "\n",
       "    .dataframe tbody tr th {\n",
       "        vertical-align: top;\n",
       "    }\n",
       "\n",
       "    .dataframe thead th {\n",
       "        text-align: right;\n",
       "    }\n",
       "</style>\n",
       "<table border=\"1\" class=\"dataframe\">\n",
       "  <thead>\n",
       "    <tr style=\"text-align: right;\">\n",
       "      <th></th>\n",
       "      <th>0</th>\n",
       "      <th>1</th>\n",
       "      <th>2</th>\n",
       "      <th>3</th>\n",
       "      <th>4</th>\n",
       "      <th>5</th>\n",
       "      <th>6</th>\n",
       "      <th>7</th>\n",
       "      <th>8</th>\n",
       "      <th>9</th>\n",
       "    </tr>\n",
       "  </thead>\n",
       "  <tbody>\n",
       "    <tr>\n",
       "      <th>Raining_ratio</th>\n",
       "      <td>0</td>\n",
       "      <td>1</td>\n",
       "      <td>2</td>\n",
       "      <td>3</td>\n",
       "      <td>4</td>\n",
       "      <td>5</td>\n",
       "      <td>6</td>\n",
       "      <td>7</td>\n",
       "      <td>8</td>\n",
       "      <td>2</td>\n",
       "    </tr>\n",
       "    <tr>\n",
       "      <th>humidity</th>\n",
       "      <td>20</td>\n",
       "      <td>50</td>\n",
       "      <td>64</td>\n",
       "      <td>80</td>\n",
       "      <td>75</td>\n",
       "      <td>83</td>\n",
       "      <td>0</td>\n",
       "      <td>10</td>\n",
       "      <td>0</td>\n",
       "      <td>50</td>\n",
       "    </tr>\n",
       "  </tbody>\n",
       "</table>\n",
       "</div>"
      ],
      "text/plain": [
       "                0   1   2   3   4   5  6   7  8   9\n",
       "Raining_ratio   0   1   2   3   4   5  6   7  8   2\n",
       "humidity       20  50  64  80  75  83  0  10  0  50"
      ]
     },
     "execution_count": 8,
     "metadata": {},
     "output_type": "execute_result"
    }
   ],
   "source": [
    "import pandas as pd\n",
    "import numpy as np\n",
    "df = pd.DataFrame({\n",
    "    'Raining_ratio': [0, 1, 2, 3, 4, 5, 6, 7, 8, 2],\n",
    "    'humidity': [20, 50, 64, 80, 75, 83, 0, 10, 0, 50]})\n",
    "df.transpose()"
   ]
  },
  {
   "cell_type": "code",
   "execution_count": 9,
   "metadata": {},
   "outputs": [
    {
     "data": {
      "image/png": "[encoded data removed]"
     },
     "metadata": {},
     "output_type": "display_data"
    }
   ],
   "source": [
    "%%R -i df -w 600 -h 600\n",
    "library(ggplot2)\n",
    "ggplot(df, aes(x=reorder(Raining_ratio,humidity), y=humidity)) + \n",
    "geom_col() + \n",
    "coord_flip()+\n",
    "scale_x_discrete(name=\"Raining Ratio\")+\n",
    "scale_y_continuous(name=\"Humidity (%)\")+ theme_bw()+\n",
    "theme(axis.text.x = element_text(face=\"bold\", color=\"blue\", size=15),\n",
    "     axis.text.y = element_text(face=\"bold\", color=\"blue\", size=15),\n",
    "     axis.title.x = element_text(face=\"bold\", color=\"blue\", size=20),\n",
    "     axis.title.y = element_text(face=\"bold\", color=\"blue\", size=20))\n"
   ]
  },
  {
   "cell_type": "markdown",
   "metadata": {},
   "source": [
    "### Reference\n",
    "<https://rpy2.github.io/doc/latest/html/interactive.html>"
   ]
  },
  {
   "cell_type": "markdown",
   "metadata": {},
   "source": [
    "### Supplement"
   ]
  },
  {
   "cell_type": "markdown",
   "metadata": {},
   "source": [
    "`%lsmagic`  \n",
    "List currently available magic functions."
   ]
  },
  {
   "cell_type": "markdown",
   "metadata": {},
   "source": [
    "`%magic_name?`  \n",
    "check the documents of specific magic command"
   ]
  },
  {
   "cell_type": "code",
   "execution_count": null,
   "metadata": {},
   "outputs": [],
   "source": []
  },
  {
   "cell_type": "code",
   "execution_count": null,
   "metadata": {},
   "outputs": [],
   "source": []
  }
 ],
 "metadata": {
  "kernelspec": {
   "display_name": "Python 3",
   "language": "python",
   "name": "python3"
  },
  "language_info": {
   "codemirror_mode": {
    "name": "ipython",
    "version": 3
   },
   "file_extension": ".py",
   "mimetype": "text/x-python",
   "name": "python",
   "nbconvert_exporter": "python",
   "pygments_lexer": "ipython3",
   "version": "3.6.13"
  },
  "toc": {
   "base_numbering": 1,
   "nav_menu": {
    "height": "87px",
    "width": "210px"
   },
   "number_sections": false,
   "sideBar": true,
   "skip_h1_title": false,
   "title_cell": "Table of Contents",
   "title_sidebar": "Contents",
   "toc_cell": false,
   "toc_position": {},
   "toc_section_display": true,
   "toc_window_display": true
  }
 },
 "nbformat": 4,
 "nbformat_minor": 4
}
